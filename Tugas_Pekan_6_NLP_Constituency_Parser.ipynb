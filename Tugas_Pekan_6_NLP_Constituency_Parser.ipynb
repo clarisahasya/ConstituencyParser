{
  "nbformat": 4,
  "nbformat_minor": 0,
  "metadata": {
    "colab": {
      "name": "Tugas Pekan 6 - NLP - Constituency Parser.ipynb",
      "provenance": [],
      "toc_visible": true
    },
    "kernelspec": {
      "name": "python3",
      "display_name": "Python 3"
    }
  },
  "cells": [
    {
      "cell_type": "markdown",
      "metadata": {
        "id": "2P9cUTN9QJHf"
      },
      "source": [
        "# **Constituency Parser**\n",
        "\n",
        "---\n",
        "\n",
        "Clarisa Hasya Y - 1301174256"
      ]
    },
    {
      "cell_type": "code",
      "metadata": {
        "id": "QjY3SEYQybA8"
      },
      "source": [
        "import nltk\n",
        "from nltk.parse.generate import generate\n",
        "from nltk.parse import ViterbiParser"
      ],
      "execution_count": 1,
      "outputs": []
    },
    {
      "cell_type": "markdown",
      "metadata": {
        "id": "q4B4EIhEiny4"
      },
      "source": [
        "## Bagian I"
      ]
    },
    {
      "cell_type": "markdown",
      "metadata": {
        "id": "z169-2pJY-WV"
      },
      "source": [
        "**Definisi CFG**"
      ]
    },
    {
      "cell_type": "code",
      "metadata": {
        "id": "kCpjuDi2ZAgs"
      },
      "source": [
        "grammar_1 = nltk.CFG.fromstring(\"\"\"\n",
        "    S -> NP VP\n",
        "    VP -> V NP | V NP PP\n",
        "    PP -> P NP\n",
        "    V -> \"melihat\" | \"memakan\" | \"berjalan\"\n",
        "    NP -> \"John\" | \"Mary\" | \"Bob\" | Det N | Det N PP\n",
        "    Det -> \"sebuah\" | \"seorang\" | \"seekor\"\n",
        "    N -> \"pria\" | \"anjing\" | \"kucing\" | \"taman\" | \"ayam\"\n",
        "    P -> \"di\" | \"oleh\" | \"dengan\" | \"milik\"\n",
        "    \"\"\")"
      ],
      "execution_count": 2,
      "outputs": []
    },
    {
      "cell_type": "markdown",
      "metadata": {
        "id": "BJT2DJkZaOaN"
      },
      "source": [
        "**Definisi Kalimat**"
      ]
    },
    {
      "cell_type": "code",
      "metadata": {
        "id": "ygkPZKiPaRCF"
      },
      "source": [
        "sent_1 = 'John melihat seekor kucing di sebuah taman'.split()\n",
        "sent_2 = 'Mary memakan seekor ayam dengan John'.split()\n",
        "sent_3 = 'seorang pria melihat seekor anjing milik Bob'.split()"
      ],
      "execution_count": 3,
      "outputs": []
    },
    {
      "cell_type": "markdown",
      "metadata": {
        "id": "10ZntmwXaYgm"
      },
      "source": [
        "**Top Down Parser**"
      ]
    },
    {
      "cell_type": "code",
      "metadata": {
        "id": "NZm31svyabeP",
        "outputId": "bf8bd46f-1854-4f36-ce20-f08a44fb8e82",
        "colab": {
          "base_uri": "https://localhost:8080/",
          "height": 683
        }
      },
      "source": [
        "td_parser = nltk.parse.TopDownChartParser(grammar_1)\n",
        "\n",
        "print(\"Top Down Parser\")\n",
        "print(\"===========================================================================================\")\n",
        "for tree in td_parser.parse(sent_1):\n",
        "    print(tree)\n",
        "print(\"===========================================================================================\")\n",
        "for tree in td_parser.parse(sent_2):\n",
        "    print(tree)\n",
        "print(\"===========================================================================================\")\n",
        "for tree in td_parser.parse(sent_3):\n",
        "    print(tree)\n",
        "print(\"===========================================================================================\")"
      ],
      "execution_count": 4,
      "outputs": [
        {
          "output_type": "stream",
          "text": [
            "Top Down Parser\n",
            "===========================================================================================\n",
            "(S\n",
            "  (NP John)\n",
            "  (VP\n",
            "    (V melihat)\n",
            "    (NP\n",
            "      (Det seekor)\n",
            "      (N kucing)\n",
            "      (PP (P di) (NP (Det sebuah) (N taman))))))\n",
            "(S\n",
            "  (NP John)\n",
            "  (VP\n",
            "    (V melihat)\n",
            "    (NP (Det seekor) (N kucing))\n",
            "    (PP (P di) (NP (Det sebuah) (N taman)))))\n",
            "===========================================================================================\n",
            "(S\n",
            "  (NP Mary)\n",
            "  (VP\n",
            "    (V memakan)\n",
            "    (NP (Det seekor) (N ayam) (PP (P dengan) (NP John)))))\n",
            "(S\n",
            "  (NP Mary)\n",
            "  (VP\n",
            "    (V memakan)\n",
            "    (NP (Det seekor) (N ayam))\n",
            "    (PP (P dengan) (NP John))))\n",
            "===========================================================================================\n",
            "(S\n",
            "  (NP (Det seorang) (N pria))\n",
            "  (VP\n",
            "    (V melihat)\n",
            "    (NP (Det seekor) (N anjing) (PP (P milik) (NP Bob)))))\n",
            "(S\n",
            "  (NP (Det seorang) (N pria))\n",
            "  (VP\n",
            "    (V melihat)\n",
            "    (NP (Det seekor) (N anjing))\n",
            "    (PP (P milik) (NP Bob))))\n",
            "===========================================================================================\n"
          ],
          "name": "stdout"
        }
      ]
    },
    {
      "cell_type": "markdown",
      "metadata": {
        "id": "TfQq2VDgbOdo"
      },
      "source": [
        "**Bottom Up Parser**"
      ]
    },
    {
      "cell_type": "code",
      "metadata": {
        "id": "1Gu4QnfLbS9Z",
        "outputId": "170e4045-4e74-431e-a757-77e25e7a15dc",
        "colab": {
          "base_uri": "https://localhost:8080/",
          "height": 683
        }
      },
      "source": [
        "bu_parser = nltk.parse.BottomUpChartParser(grammar_1)\n",
        "\n",
        "print(\"Bottom Up Parser\")\n",
        "print(\"===========================================================================================\")\n",
        "for tree in bu_parser.parse(sent_1):\n",
        "    print(tree)\n",
        "print(\"===========================================================================================\")\n",
        "for tree in bu_parser.parse(sent_2):\n",
        "    print(tree)\n",
        "print(\"===========================================================================================\")\n",
        "for tree in bu_parser.parse(sent_3):\n",
        "    print(tree)\n",
        "print(\"===========================================================================================\")"
      ],
      "execution_count": 5,
      "outputs": [
        {
          "output_type": "stream",
          "text": [
            "Bottom Up Parser\n",
            "===========================================================================================\n",
            "(S\n",
            "  (NP John)\n",
            "  (VP\n",
            "    (V melihat)\n",
            "    (NP (Det seekor) (N kucing))\n",
            "    (PP (P di) (NP (Det sebuah) (N taman)))))\n",
            "(S\n",
            "  (NP John)\n",
            "  (VP\n",
            "    (V melihat)\n",
            "    (NP\n",
            "      (Det seekor)\n",
            "      (N kucing)\n",
            "      (PP (P di) (NP (Det sebuah) (N taman))))))\n",
            "===========================================================================================\n",
            "(S\n",
            "  (NP Mary)\n",
            "  (VP\n",
            "    (V memakan)\n",
            "    (NP (Det seekor) (N ayam))\n",
            "    (PP (P dengan) (NP John))))\n",
            "(S\n",
            "  (NP Mary)\n",
            "  (VP\n",
            "    (V memakan)\n",
            "    (NP (Det seekor) (N ayam) (PP (P dengan) (NP John)))))\n",
            "===========================================================================================\n",
            "(S\n",
            "  (NP (Det seorang) (N pria))\n",
            "  (VP\n",
            "    (V melihat)\n",
            "    (NP (Det seekor) (N anjing))\n",
            "    (PP (P milik) (NP Bob))))\n",
            "(S\n",
            "  (NP (Det seorang) (N pria))\n",
            "  (VP\n",
            "    (V melihat)\n",
            "    (NP (Det seekor) (N anjing) (PP (P milik) (NP Bob)))))\n",
            "===========================================================================================\n"
          ],
          "name": "stdout"
        }
      ]
    },
    {
      "cell_type": "markdown",
      "metadata": {
        "id": "Fy-IDQ14bd1f"
      },
      "source": [
        "**Shift Reduce Parser**"
      ]
    },
    {
      "cell_type": "code",
      "metadata": {
        "id": "VEVp6urVbg_f",
        "outputId": "0f102d5f-f616-4e82-a2ad-f79129db2d7b",
        "colab": {
          "base_uri": "https://localhost:8080/",
          "height": 1000
        }
      },
      "source": [
        "sr_parser = nltk.ShiftReduceParser(grammar_1, trace=2)\n",
        "\n",
        "print(\"Shift Reduce Parser\")\n",
        "print(\"===========================================================================================\")\n",
        "for tree in sr_parser.parse(sent_1):\n",
        "    print(tree)\n",
        "print(\"===========================================================================================\")\n",
        "for tree in sr_parser.parse(sent_2):\n",
        "    print(tree)\n",
        "print(\"===========================================================================================\")\n",
        "for tree in sr_parser.parse(sent_3):\n",
        "    print(tree)\n",
        "print(\"===========================================================================================\")"
      ],
      "execution_count": 6,
      "outputs": [
        {
          "output_type": "stream",
          "text": [
            "Shift Reduce Parser\n",
            "===========================================================================================\n",
            "Parsing 'John melihat seekor kucing di sebuah taman'\n",
            "    [ * John melihat seekor kucing di sebuah taman]\n",
            "  S [ 'John' * melihat seekor kucing di sebuah taman]\n",
            "  R [ NP * melihat seekor kucing di sebuah taman]\n",
            "  S [ NP 'melihat' * seekor kucing di sebuah taman]\n",
            "  R [ NP V * seekor kucing di sebuah taman]\n",
            "  S [ NP V 'seekor' * kucing di sebuah taman]\n",
            "  R [ NP V Det * kucing di sebuah taman]\n",
            "  S [ NP V Det 'kucing' * di sebuah taman]\n",
            "  R [ NP V Det N * di sebuah taman]\n",
            "  R [ NP V NP * di sebuah taman]\n",
            "  R [ NP VP * di sebuah taman]\n",
            "  R [ S * di sebuah taman]\n",
            "  S [ S 'di' * sebuah taman]\n",
            "  R [ S P * sebuah taman]\n",
            "  S [ S P 'sebuah' * taman]\n",
            "  R [ S P Det * taman]\n",
            "  S [ S P Det 'taman' * ]\n",
            "  R [ S P Det N * ]\n",
            "  R [ S P NP * ]\n",
            "  R [ S PP * ]\n",
            "===========================================================================================\n",
            "Parsing 'Mary memakan seekor ayam dengan John'\n",
            "    [ * Mary memakan seekor ayam dengan John]\n",
            "  S [ 'Mary' * memakan seekor ayam dengan John]\n",
            "  R [ NP * memakan seekor ayam dengan John]\n",
            "  S [ NP 'memakan' * seekor ayam dengan John]\n",
            "  R [ NP V * seekor ayam dengan John]\n",
            "  S [ NP V 'seekor' * ayam dengan John]\n",
            "  R [ NP V Det * ayam dengan John]\n",
            "  S [ NP V Det 'ayam' * dengan John]\n",
            "  R [ NP V Det N * dengan John]\n",
            "  R [ NP V NP * dengan John]\n",
            "  R [ NP VP * dengan John]\n",
            "  R [ S * dengan John]\n",
            "  S [ S 'dengan' * John]\n",
            "  R [ S P * John]\n",
            "  S [ S P 'John' * ]\n",
            "  R [ S P NP * ]\n",
            "  R [ S PP * ]\n",
            "===========================================================================================\n",
            "Parsing 'seorang pria melihat seekor anjing milik Bob'\n",
            "    [ * seorang pria melihat seekor anjing milik Bob]\n",
            "  S [ 'seorang' * pria melihat seekor anjing milik Bob]\n",
            "  R [ Det * pria melihat seekor anjing milik Bob]\n",
            "  S [ Det 'pria' * melihat seekor anjing milik Bob]\n",
            "  R [ Det N * melihat seekor anjing milik Bob]\n",
            "  R [ NP * melihat seekor anjing milik Bob]\n",
            "  S [ NP 'melihat' * seekor anjing milik Bob]\n",
            "  R [ NP V * seekor anjing milik Bob]\n",
            "  S [ NP V 'seekor' * anjing milik Bob]\n",
            "  R [ NP V Det * anjing milik Bob]\n",
            "  S [ NP V Det 'anjing' * milik Bob]\n",
            "  R [ NP V Det N * milik Bob]\n",
            "  R [ NP V NP * milik Bob]\n",
            "  R [ NP VP * milik Bob]\n",
            "  R [ S * milik Bob]\n",
            "  S [ S 'milik' * Bob]\n",
            "  R [ S P * Bob]\n",
            "  S [ S P 'Bob' * ]\n",
            "  R [ S P NP * ]\n",
            "  R [ S PP * ]\n",
            "===========================================================================================\n"
          ],
          "name": "stdout"
        }
      ]
    },
    {
      "cell_type": "markdown",
      "metadata": {
        "id": "FHQz0JZucyMd"
      },
      "source": [
        "**Cek apakah Grammar grammar_1 memenuhi syarat CNF**"
      ]
    },
    {
      "cell_type": "code",
      "metadata": {
        "id": "XpEIyazBc1XV",
        "outputId": "27d15b98-033a-46df-f60d-0573af362028",
        "colab": {
          "base_uri": "https://localhost:8080/",
          "height": 33
        }
      },
      "source": [
        " print(grammar_1.is_chomsky_normal_form())"
      ],
      "execution_count": 7,
      "outputs": [
        {
          "output_type": "stream",
          "text": [
            "False\n"
          ],
          "name": "stdout"
        }
      ]
    },
    {
      "cell_type": "markdown",
      "metadata": {
        "id": "EShwYwU9ojDz"
      },
      "source": [
        "**Mengubah menjadi CNF**"
      ]
    },
    {
      "cell_type": "code",
      "metadata": {
        "id": "e-PPX3L8oZpl"
      },
      "source": [
        "grammar_2 = nltk.CFG.fromstring(\"\"\"\n",
        "    S -> NP VP\n",
        "    VP -> V NP \n",
        "    PP -> P NP | H0 PP\n",
        "    V -> \"melihat\" | \"memakan\" | \"berjalan\"\n",
        "    NP -> \"John\" | \"Mary\" | \"Bob\" | Det N | H1 PP\n",
        "    Det -> \"sebuah\" | \"seorang\" | \"seekor\"\n",
        "    N -> \"pria\" | \"anjing\" | \"kucing\" | \"taman\" | \"ayam\" \n",
        "    P -> \"di\" | \"oleh\" | \"dengan\" | \"milik\"\n",
        "    H0 -> V NP\n",
        "    H1 -> Det N\n",
        "    \"\"\")"
      ],
      "execution_count": 8,
      "outputs": []
    },
    {
      "cell_type": "markdown",
      "metadata": {
        "id": "YIl455L3otoI"
      },
      "source": [
        "**Cek apakah Grammar memenuhi syarat CNF**"
      ]
    },
    {
      "cell_type": "code",
      "metadata": {
        "id": "JWSKuA-4ornz",
        "outputId": "884b8c97-523f-4dc8-fb2c-855720f4cd66",
        "colab": {
          "base_uri": "https://localhost:8080/",
          "height": 33
        }
      },
      "source": [
        " print(grammar_2.is_chomsky_normal_form())"
      ],
      "execution_count": 9,
      "outputs": [
        {
          "output_type": "stream",
          "text": [
            "True\n"
          ],
          "name": "stdout"
        }
      ]
    },
    {
      "cell_type": "markdown",
      "metadata": {
        "id": "GAVDbyNCiiIv"
      },
      "source": [
        "## Bagian II"
      ]
    },
    {
      "cell_type": "markdown",
      "metadata": {
        "id": "hjY018lKp1lr"
      },
      "source": [
        "**Generate Grammar** dari file constituency treebank\n",
        "\n",
        "File yang digunakan adalah 5 kalimat awal dari Constituency Treebank Bahasa Indonesia, kethu https://github.com/ialfina/kethu"
      ]
    },
    {
      "cell_type": "code",
      "metadata": {
        "id": "ly0-CAd0ll8d",
        "outputId": "90745317-9986-44c7-d6f1-bf2f17302fae",
        "colab": {
          "base_uri": "https://localhost:8080/",
          "height": 86
        }
      },
      "source": [
        "from nltk.corpus import BracketParseCorpusReader\n",
        "\n",
        "ptb = BracketParseCorpusReader(r\"\", r\".*/*\\.mrg\")\n",
        "\n",
        "print(ptb)\n",
        "print(ptb.sents())\n",
        "print(ptb.parsed_sents())"
      ],
      "execution_count": 10,
      "outputs": [
        {
          "output_type": "stream",
          "text": [
            "<BracketParseCorpusReader in '/content'>\n",
            "[['Kera', 'untuk', '*', 'amankan', 'pesta', 'olahraga'], ['Pemerintah', 'kota', 'Delhi', 'mengerahkan', 'monyet', 'untuk', '*', 'mengusir', 'monyet-monyet', 'lain', 'yang', '*', 'berbadan', 'lebih', 'kecil', 'dari', 'arena', 'Pesta', 'Olahraga', 'Persemakmuran', '.'], ...]\n",
            "[Tree('NP', [Tree('NN', ['Kera']), Tree('SBAR', [Tree('IN', ['untuk']), Tree('S', [Tree('NP-SBJ', [Tree('-NONE-', ['*'])]), Tree('VP', [Tree('VB', ['amankan']), Tree('NP', [Tree('NP', [Tree('NN', ['pesta']), Tree('NN', ['olahraga'])])])])])])]), Tree('S', [Tree('NP-SBJ', [Tree('NN', ['Pemerintah']), Tree('NN', ['kota']), Tree('NNP', ['Delhi'])]), Tree('VP', [Tree('VB', ['mengerahkan']), Tree('NP', [Tree('NN', ['monyet'])]), Tree('SBAR', [Tree('IN', ['untuk']), Tree('S', [Tree('NP-SBJ', [Tree('-NONE-', ['*'])]), Tree('VP', [Tree('VB', ['mengusir']), Tree('NP', [Tree('NP', [Tree('NN', ['monyet-monyet']), Tree('JJ', ['lain'])]), Tree('SBAR', [Tree('IN', ['yang']), Tree('S', [Tree('NP-SBJ', [Tree('-NONE-', ['*'])]), Tree('VP', [Tree('VB', ['berbadan']), Tree('ADJP', [Tree('RB', ['lebih']), Tree('JJ', ['kecil'])])])])])]), Tree('PP', [Tree('IN', ['dari']), Tree('NP', [Tree('NN', ['arena']), Tree('NP', [Tree('NP', [Tree('NNP', ['Pesta']), Tree('NNP', ['Olahraga'])]), Tree('NNP', ['Persemakmuran'])])])])])])])]), Tree('.', ['.'])]), ...]\n"
          ],
          "name": "stdout"
        }
      ]
    },
    {
      "cell_type": "markdown",
      "metadata": {
        "id": "R5MMxNdsqOW5"
      },
      "source": [
        "**Induksi PCFG** (Probabilistic Context Free Grammar) dari constituency Treebank"
      ]
    },
    {
      "cell_type": "code",
      "metadata": {
        "id": "bSDbinBznBSq",
        "outputId": "eb7605f0-54cf-42df-fc42-6c009ce869ca",
        "colab": {
          "base_uri": "https://localhost:8080/",
          "height": 1000
        }
      },
      "source": [
        "from nltk import Nonterminal, nonterminals, Production, PCFG, induce_pcfg\n",
        "\n",
        "S = Nonterminal('S')\n",
        "\n",
        "productions = []\n",
        "for t in ptb.parsed_sents():\n",
        "    productions += t.productions()\n",
        "grammar_3 = induce_pcfg(S, productions)\n",
        "print(grammar_3)"
      ],
      "execution_count": 11,
      "outputs": [
        {
          "output_type": "stream",
          "text": [
            "Grammar with 105 productions (start state = S)\n",
            "    NP -> NN SBAR [0.04]\n",
            "    NN -> 'Kera' [0.037037]\n",
            "    SBAR -> IN S [0.75]\n",
            "    IN -> 'untuk' [0.222222]\n",
            "    S -> NP-SBJ VP [0.538462]\n",
            "    NP-SBJ -> -NONE- [0.555556]\n",
            "    -NONE- -> '*' [0.428571]\n",
            "    VP -> VB NP [0.285714]\n",
            "    VB -> 'amankan' [0.0769231]\n",
            "    NP -> NP [0.04]\n",
            "    NP -> NN NN [0.16]\n",
            "    NN -> 'pesta' [0.037037]\n",
            "    NN -> 'olahraga' [0.037037]\n",
            "    S -> NP-SBJ VP . [0.153846]\n",
            "    NP-SBJ -> NN NN NNP [0.111111]\n",
            "    NN -> 'Pemerintah' [0.037037]\n",
            "    NN -> 'kota' [0.037037]\n",
            "    NNP -> 'Delhi' [0.222222]\n",
            "    VP -> VB NP SBAR [0.0714286]\n",
            "    VB -> 'mengerahkan' [0.0769231]\n",
            "    NP -> NN [0.04]\n",
            "    NN -> 'monyet' [0.185185]\n",
            "    VP -> VB NP PP [0.214286]\n",
            "    VB -> 'mengusir' [0.0769231]\n",
            "    NP -> NP SBAR [0.04]\n",
            "    NP -> NN JJ [0.12]\n",
            "    NN -> 'monyet-monyet' [0.037037]\n",
            "    JJ -> 'lain' [0.2]\n",
            "    IN -> 'yang' [0.111111]\n",
            "    VP -> VB ADJP [0.0714286]\n",
            "    VB -> 'berbadan' [0.0769231]\n",
            "    ADJP -> RB JJ [1.0]\n",
            "    RB -> 'lebih' [0.5]\n",
            "    JJ -> 'kecil' [0.2]\n",
            "    PP -> IN NP [1.0]\n",
            "    IN -> 'dari' [0.222222]\n",
            "    NP -> NN NP [0.12]\n",
            "    NN -> 'arena' [0.0740741]\n",
            "    NP -> NP NNP [0.08]\n",
            "    NP -> NNP NNP [0.04]\n",
            "    NNP -> 'Pesta' [0.111111]\n",
            "    NNP -> 'Olahraga' [0.111111]\n",
            "    NNP -> 'Persemakmuran' [0.111111]\n",
            "    . -> '.' [1.0]\n",
            "    NP-SBJ -> DT NN [0.111111]\n",
            "    DT -> 'Beberapa' [0.5]\n",
            "    NN -> 'laporan' [0.037037]\n",
            "    VP -> VB SBAR [0.0714286]\n",
            "    VB -> 'menyebutkan' [0.0769231]\n",
            "    SBAR -> -NONE- S [0.25]\n",
            "    -NONE- -> '0' [0.142857]\n",
            "    S -> NP-SBJ-1 VP [0.153846]\n",
            "    NP-SBJ-1 -> QP NN [0.333333]\n",
            "    QP -> RB CD [1.0]\n",
            "    RB -> 'setidaknya' [0.5]\n",
            "    CD -> '10' [0.5]\n",
            "    VB -> 'ditempatkan' [0.0769231]\n",
            "    NP -> -NONE- [0.04]\n",
            "    -NONE- -> '*-1' [0.428571]\n",
            "    IN -> 'di' [0.444444]\n",
            "    NN -> 'luar' [0.037037]\n",
            "    NP -> NP PP [0.04]\n",
            "    NP -> NN CC NN [0.04]\n",
            "    NN -> 'lomba' [0.037037]\n",
            "    CC -> 'dan' [1.0]\n",
            "    NN -> 'pertandingan' [0.037037]\n",
            "    NP -> NN NNP [0.08]\n",
            "    NN -> 'ibukota' [0.0740741]\n",
            "    NNP -> 'India' [0.222222]\n",
            "    S -> NP-SBJ-1 VP . [0.0769231]\n",
            "    NP-SBJ-1 -> NNP NNP [0.333333]\n",
            "    NNP -> 'Pemkot' [0.111111]\n",
            "    VP -> VP CC VP [0.0714286]\n",
            "    VB -> 'memiliki' [0.0769231]\n",
            "    NP -> CD NN [0.04]\n",
            "    CD -> '28' [0.25]\n",
            "    VP -> VB S [0.142857]\n",
            "    VB -> 'berencana' [0.0769231]\n",
            "    VB -> 'mendatangkan' [0.0769231]\n",
            "    NP -> CD NN JJ [0.04]\n",
            "    JJ -> 'sejenis' [0.2]\n",
            "    NN -> 'negara' [0.037037]\n",
            "    NN -> 'bagian' [0.037037]\n",
            "    NNP -> 'Rajasthan' [0.111111]\n",
            "    S -> S , S CC S . [0.0769231]\n",
            "    NP-SBJ -> NP PP [0.111111]\n",
            "    NN -> 'Jumlah' [0.037037]\n",
            "    VB -> 'mencapai' [0.0769231]\n",
            "    NP -> CD [0.04]\n",
            "    CD -> 'ribuan' [0.25]\n",
            "    , -> ',' [1.0]\n",
            "    NP-SBJ -> NP [0.111111]\n",
            "    NN -> 'sebagian' [0.037037]\n",
            "    JJ -> 'besar' [0.2]\n",
            "    VP -> VB PP [0.0714286]\n",
            "    VB -> 'berada' [0.0769231]\n",
            "    NN -> 'kantor-kantor' [0.037037]\n",
            "    NN -> 'pemerintah' [0.037037]\n",
            "    NP-SBJ-1 -> NN DT [0.333333]\n",
            "    NN -> 'hewan' [0.037037]\n",
            "    DT -> 'ini' [0.5]\n",
            "    VB -> 'dianggap' [0.0769231]\n",
            "    VB -> 'mengganggu' [0.0769231]\n",
            "    NN -> 'ketertiban' [0.037037]\n",
            "    JJ -> 'umum' [0.2]\n"
          ],
          "name": "stdout"
        }
      ]
    },
    {
      "cell_type": "markdown",
      "metadata": {
        "id": "AwZcTRi7qXoT"
      },
      "source": [
        "**Bottom Up Parser**"
      ]
    },
    {
      "cell_type": "code",
      "metadata": {
        "id": "ze2fSFo4qmBB",
        "outputId": "5cf02eed-f447-4336-e49a-38e55210a7f7",
        "colab": {
          "base_uri": "https://localhost:8080/",
          "height": 667
        }
      },
      "source": [
        "sent1 = 'ribuan monyet amankan pesta'.split()\n",
        "sent2 = 'Beberapa pertandingan ditempatkan di kota Delhi'.split()\n",
        "# contoh menggunakan bottom-up parser\n",
        "bu_parser = nltk.parse.BottomUpChartParser(grammar_3)\n",
        "\n",
        "print('Bottom Up Parser')\n",
        "print(\"===========================================================================================\")\n",
        "for tree in bu_parser.parse(sent1):\n",
        "    print(tree)\n",
        "print(\"===========================================================================================\")\n",
        "for tree in bu_parser.parse(sent2):\n",
        "    print(tree)\n",
        "print(\"===========================================================================================\")"
      ],
      "execution_count": 12,
      "outputs": [
        {
          "output_type": "stream",
          "text": [
            "Bottom Up Parser\n",
            "===========================================================================================\n",
            "(S\n",
            "  (NP-SBJ (NP (CD ribuan) (NN monyet)))\n",
            "  (VP (VB amankan) (NP (NN pesta))))\n",
            "(S\n",
            "  (NP-SBJ (NP (CD ribuan) (NN monyet)))\n",
            "  (VP (VB amankan) (NP (NP (NN pesta)))))\n",
            "(S\n",
            "  (NP-SBJ (NP (NP (CD ribuan) (NN monyet))))\n",
            "  (VP (VB amankan) (NP (NN pesta))))\n",
            "(S\n",
            "  (NP-SBJ (NP (NP (CD ribuan) (NN monyet))))\n",
            "  (VP (VB amankan) (NP (NP (NN pesta)))))\n",
            "===========================================================================================\n",
            "(S\n",
            "  (NP-SBJ (DT Beberapa) (NN pertandingan))\n",
            "  (VP (VB ditempatkan) (PP (IN di) (NP (NP (NN kota)) (NNP Delhi)))))\n",
            "(S\n",
            "  (NP-SBJ (DT Beberapa) (NN pertandingan))\n",
            "  (VP\n",
            "    (VB ditempatkan)\n",
            "    (PP (IN di) (NP (NP (NP (NN kota))) (NNP Delhi)))))\n",
            "(S\n",
            "  (NP-SBJ (DT Beberapa) (NN pertandingan))\n",
            "  (VP\n",
            "    (VB ditempatkan)\n",
            "    (PP (IN di) (NP (NP (NP (NN kota)) (NNP Delhi))))))\n",
            "(S\n",
            "  (NP-SBJ (DT Beberapa) (NN pertandingan))\n",
            "  (VP\n",
            "    (VB ditempatkan)\n",
            "    (PP (IN di) (NP (NP (NP (NP (NN kota))) (NNP Delhi))))))\n",
            "(S\n",
            "  (NP-SBJ (DT Beberapa) (NN pertandingan))\n",
            "  (VP (VB ditempatkan) (PP (IN di) (NP (NP (NN kota) (NNP Delhi))))))\n",
            "(S\n",
            "  (NP-SBJ (DT Beberapa) (NN pertandingan))\n",
            "  (VP (VB ditempatkan) (PP (IN di) (NP (NN kota) (NNP Delhi)))))\n",
            "===========================================================================================\n"
          ],
          "name": "stdout"
        }
      ]
    },
    {
      "cell_type": "markdown",
      "metadata": {
        "id": "QkZvb6kMCgQP"
      },
      "source": [
        "**Viterbi Parser**"
      ]
    },
    {
      "cell_type": "code",
      "metadata": {
        "id": "XMLYxBAuCmTD",
        "outputId": "e3488fc2-cc6e-4344-f4a3-aff6dd38595b",
        "colab": {
          "base_uri": "https://localhost:8080/",
          "height": 1000
        }
      },
      "source": [
        "from nltk.parse import ViterbiParser\n",
        "\n",
        "parser = ViterbiParser(grammar_3, trace=2)\n",
        "\n",
        "print(\"Viterbi Parser\")\n",
        "print(\"===========================================================================================\")\n",
        "for t in parser.parse(sent1):\n",
        "    t.pretty_print()\n",
        "print(\"===========================================================================================\")\n",
        "for t in parser.parse(sent2):\n",
        "    t.pretty_print()\n",
        "print(\"===========================================================================================\")"
      ],
      "execution_count": 13,
      "outputs": [
        {
          "output_type": "stream",
          "text": [
            "Viterbi Parser\n",
            "===========================================================================================\n",
            "Inserting tokens into the most likely constituents table...\n",
            "   Insert: |=...| ribuan\n",
            "   Insert: |.=..| monyet\n",
            "   Insert: |..=.| amankan\n",
            "   Insert: |...=| pesta\n",
            "Finding the most likely constituents spanning 1 text elements...\n",
            "   Insert: |=...| CD -> 'ribuan' [0.25]\n",
            "   Insert: |=...| NP -> CD [0.04]\n",
            "  Discard: |=...| NP -> NP [0.04]\n",
            "   Insert: |=...| NP-SBJ -> NP [0.111111]\n",
            "  Discard: |=...| NP -> NP [0.04]\n",
            "   Insert: |.=..| NN -> 'monyet' [0.185185]\n",
            "   Insert: |.=..| NP -> NN [0.04]\n",
            "  Discard: |.=..| NP -> NP [0.04]\n",
            "   Insert: |.=..| NP-SBJ -> NP [0.111111]\n",
            "  Discard: |.=..| NP -> NP [0.04]\n",
            "   Insert: |..=.| VB -> 'amankan' [0.0769231]\n",
            "   Insert: |...=| NN -> 'pesta' [0.037037]\n",
            "   Insert: |...=| NP -> NN [0.04]\n",
            "  Discard: |...=| NP -> NP [0.04]\n",
            "   Insert: |...=| NP-SBJ -> NP [0.111111]\n",
            "  Discard: |...=| NP -> NP [0.04]\n",
            "Finding the most likely constituents spanning 2 text elements...\n",
            "   Insert: |==..| NP -> CD NN [0.04]\n",
            "  Discard: |==..| NP -> NP [0.04]\n",
            "   Insert: |==..| NP-SBJ -> NP [0.111111]\n",
            "  Discard: |==..| NP -> NP [0.04]\n",
            "   Insert: |..==| VP -> VB NP [0.285714]\n",
            "Finding the most likely constituents spanning 3 text elements...\n",
            "   Insert: |.===| S -> NP-SBJ VP [0.538462]\n",
            "Finding the most likely constituents spanning 4 text elements...\n",
            "   Insert: |====| S -> NP-SBJ VP [0.538462]\n",
            "                      S                   \n",
            "          ____________|___________         \n",
            "       NP-SBJ                     VP      \n",
            "         |                   _____|____    \n",
            "         NP                 |          NP \n",
            "   ______|______            |          |   \n",
            "  CD            NN          VB         NN \n",
            "  |             |           |          |   \n",
            "ribuan        monyet     amankan     pesta\n",
            "\n",
            "===========================================================================================\n",
            "Inserting tokens into the most likely constituents table...\n",
            "   Insert: |=.....| Beberapa\n",
            "   Insert: |.=....| pertandingan\n",
            "   Insert: |..=...| ditempatkan\n",
            "   Insert: |...=..| di\n",
            "   Insert: |....=.| kota\n",
            "   Insert: |.....=| Delhi\n",
            "Finding the most likely constituents spanning 1 text elements...\n",
            "   Insert: |=.....| DT -> 'Beberapa' [0.5]\n",
            "   Insert: |.=....| NN -> 'pertandingan' [0.037037]\n",
            "   Insert: |.=....| NP -> NN [0.04]\n",
            "  Discard: |.=....| NP -> NP [0.04]\n",
            "   Insert: |.=....| NP-SBJ -> NP [0.111111]\n",
            "  Discard: |.=....| NP -> NP [0.04]\n",
            "   Insert: |..=...| VB -> 'ditempatkan' [0.0769231]\n",
            "   Insert: |...=..| IN -> 'di' [0.444444]\n",
            "   Insert: |....=.| NN -> 'kota' [0.037037]\n",
            "   Insert: |....=.| NP -> NN [0.04]\n",
            "  Discard: |....=.| NP -> NP [0.04]\n",
            "   Insert: |....=.| NP-SBJ -> NP [0.111111]\n",
            "  Discard: |....=.| NP -> NP [0.04]\n",
            "   Insert: |.....=| NNP -> 'Delhi' [0.222222]\n",
            "Finding the most likely constituents spanning 2 text elements...\n",
            "   Insert: |==....| NP-SBJ -> DT NN [0.111111]\n",
            "   Insert: |...==.| PP -> IN NP [1.0]\n",
            "   Insert: |....==| NP -> NP NNP [0.08]\n",
            "   Insert: |....==| NP -> NN NNP [0.08]\n",
            "  Discard: |....==| NP -> NP [0.04]\n",
            "  Discard: |....==| NP -> NP NNP [0.08]\n",
            "   Insert: |....==| NP-SBJ -> NP [0.111111]\n",
            "  Discard: |....==| NP -> NP [0.04]\n",
            "  Discard: |....==| NP -> NP NNP [0.08]\n",
            "Finding the most likely constituents spanning 3 text elements...\n",
            "   Insert: |..===.| VP -> VB PP [0.0714286]\n",
            "   Insert: |...===| PP -> IN NP [1.0]\n",
            "Finding the most likely constituents spanning 4 text elements...\n",
            "   Insert: |.====.| S -> NP-SBJ VP [0.538462]\n",
            "   Insert: |..====| VP -> VB PP [0.0714286]\n",
            "Finding the most likely constituents spanning 5 text elements...\n",
            "   Insert: |=====.| S -> NP-SBJ VP [0.538462]\n",
            "   Insert: |.=====| S -> NP-SBJ VP [0.538462]\n",
            "Finding the most likely constituents spanning 6 text elements...\n",
            "   Insert: |======| S -> NP-SBJ VP [0.538462]\n",
            "                                  S                            \n",
            "            ______________________|___________                  \n",
            "           |                                  VP               \n",
            "           |                       ___________|___              \n",
            "           |                      |               PP           \n",
            "           |                      |        _______|____         \n",
            "         NP-SBJ                   |       |            NP      \n",
            "    _______|_________             |       |        ____|____    \n",
            "   DT                NN           VB      IN      NN       NNP \n",
            "   |                 |            |       |       |         |   \n",
            "Beberapa        pertandingan ditempatkan  di     kota     Delhi\n",
            "\n",
            "===========================================================================================\n"
          ],
          "name": "stdout"
        }
      ]
    }
  ]
}